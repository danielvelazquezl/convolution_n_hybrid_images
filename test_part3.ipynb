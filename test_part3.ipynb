{
 "cells": [
  {
   "cell_type": "code",
   "execution_count": 1,
   "id": "domestic-details",
   "metadata": {},
   "outputs": [],
   "source": [
    "%load_ext autoreload\n",
    "%autoreload 2"
   ]
  },
  {
   "cell_type": "code",
   "execution_count": 2,
   "id": "pharmaceutical-hardware",
   "metadata": {},
   "outputs": [],
   "source": [
    "from proj1_code.part3 import *\n",
    "from proj1_unit_tests.test_part3 import *"
   ]
  },
  {
   "cell_type": "markdown",
   "id": "massive-budget",
   "metadata": {},
   "source": [
    "### Unit test"
   ]
  },
  {
   "cell_type": "code",
   "execution_count": 3,
   "id": "engaged-detroit",
   "metadata": {},
   "outputs": [],
   "source": [
    "image = torch.zeros((1, 2, 3, 3), dtype=float)\n",
    "image[0, 0] = torch.tensor(\n",
    "    [\n",
    "        [0, 1, 2],\n",
    "        [3, 4, 5],\n",
    "        [6, 7, 8]\n",
    "    ]).float()\n",
    "image[0, 1] = torch.tensor(\n",
    "    [\n",
    "        [9, 10, 11],\n",
    "        [12, 13, 14],\n",
    "        [15, 16, 17]\n",
    "    ]).float()\n",
    "\n",
    "identity_filter = torch.tensor([[0, 0, 0], [0, 1, 0], [0, 0, 0]]).float()\n",
    "double_filter = torch.tensor([[0, 0, 0], [0, 2, 0], [0, 0, 0]]).float()\n",
    "triple_filter = torch.tensor([[0, 0, 0], [0, 3, 0], [0, 0, 0]]).float()\n",
    "ones_filter = torch.ones(3, 3).float()\n",
    "filters = torch.stack(\n",
    "    [identity_filter, double_filter, triple_filter, ones_filter], 0\n",
    ")\n",
    "\n",
    "filters = filters.reshape(4, 1, 3, 3).float()\n",
    "feature_maps = my_conv2d_pytorch(image.float(), filters)"
   ]
  },
  {
   "cell_type": "code",
   "execution_count": 4,
   "id": "leading-aircraft",
   "metadata": {
    "scrolled": true
   },
   "outputs": [
    {
     "name": "stdout",
     "output_type": "stream",
     "text": [
      "torch.Size([1, 2, 3, 3])\n",
      "torch.Size([4, 1, 3, 3])\n",
      "2\n"
     ]
    },
    {
     "data": {
      "text/plain": [
       "1"
      ]
     },
     "execution_count": 4,
     "metadata": {},
     "output_type": "execute_result"
    }
   ],
   "source": [
    "# feature_maps.shape\n",
    "print(image.shape)\n",
    "print(filters.shape)\n",
    "print(image.shape[1])\n",
    "filters.shape[2] // 2"
   ]
  },
  {
   "cell_type": "markdown",
   "id": "turned-victor",
   "metadata": {},
   "source": [
    "### Diferentes padding/strides"
   ]
  },
  {
   "cell_type": "code",
   "execution_count": 5,
   "id": "meaningful-robin",
   "metadata": {},
   "outputs": [
    {
     "name": "stdout",
     "output_type": "stream",
     "text": [
      "Image has shape:  (3, 361, 410)\n"
     ]
    }
   ],
   "source": [
    "image = load_image('data/1a_dog.bmp')\n",
    "\n",
    "# turn HW image into CHW, where C=1 for grayscale\n",
    "image = np.transpose(image, (2,0,1))\n",
    "print('Image has shape: ', image.shape)\n",
    "image = torch.from_numpy(image).unsqueeze(0) #convert to tensor and add batch dimension"
   ]
  },
  {
   "cell_type": "code",
   "execution_count": 6,
   "id": "common-definition",
   "metadata": {},
   "outputs": [],
   "source": [
    "identity_filter = np.asarray([[0, 0, 0], [0, 1, 0], [0, 0, 0]])\n",
    "blur_filter = np.ones((3,3)) \n",
    "sobel_filter = np.asarray([[-1, 0, 1], [-2, 0, 2], [-1, 0, 1]])"
   ]
  },
  {
   "cell_type": "code",
   "execution_count": 7,
   "id": "overhead-pharmaceutical",
   "metadata": {},
   "outputs": [],
   "source": [
    "filter_bank = np.stack(\n",
    "    [\n",
    "        [identity_filter],\n",
    "        [blur_filter],\n",
    "        [sobel_filter]\n",
    "    ])\n",
    "\n",
    "filter_bank = torch.from_numpy(filter_bank).float()\n",
    "# Run the image filtering operation\n",
    "feature_maps = my_conv2d_pytorch(image, filter_bank)"
   ]
  },
  {
   "cell_type": "code",
   "execution_count": 8,
   "id": "quiet-indiana",
   "metadata": {},
   "outputs": [
    {
     "data": {
      "text/plain": [
       "torch.Size([1, 3, 181, 205])"
      ]
     },
     "execution_count": 8,
     "metadata": {},
     "output_type": "execute_result"
    }
   ],
   "source": [
    "feature_maps.shape"
   ]
  }
 ],
 "metadata": {
  "kernelspec": {
   "display_name": "Python 3",
   "language": "python",
   "name": "python3"
  },
  "language_info": {
   "codemirror_mode": {
    "name": "ipython",
    "version": 3
   },
   "file_extension": ".py",
   "mimetype": "text/x-python",
   "name": "python",
   "nbconvert_exporter": "python",
   "pygments_lexer": "ipython3",
   "version": "3.8.5"
  }
 },
 "nbformat": 4,
 "nbformat_minor": 5
}

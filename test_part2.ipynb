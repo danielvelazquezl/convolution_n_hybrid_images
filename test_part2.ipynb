{
 "cells": [
  {
   "cell_type": "code",
   "execution_count": 1,
   "id": "exceptional-registration",
   "metadata": {},
   "outputs": [],
   "source": [
    "%load_ext autoreload\n",
    "%autoreload 2"
   ]
  },
  {
   "cell_type": "markdown",
   "id": "oriental-insertion",
   "metadata": {},
   "source": [
    "### Imports section"
   ]
  },
  {
   "cell_type": "code",
   "execution_count": 34,
   "id": "legislative-jordan",
   "metadata": {},
   "outputs": [],
   "source": [
    "import os\n",
    "import glob\n",
    "import numpy as np\n",
    "import matplotlib.pyplot as plt\n",
    "import PIL\n",
    "import torch\n",
    "import torchvision\n",
    "import torch.utils.data as data\n",
    "import torchvision.transforms as transforms\n",
    "\n",
    "from proj1_code.utils import *\n",
    "from proj1_code.part2_datasets import *\n",
    "from proj1_code.part2_models import *\n",
    "from proj1_unit_tests.test_part2 import *"
   ]
  },
  {
   "cell_type": "code",
   "execution_count": 13,
   "id": "pharmaceutical-metabolism",
   "metadata": {},
   "outputs": [
    {
     "name": "stdout",
     "output_type": "stream",
     "text": [
      "['data/1a_dog.bmp', 'data/2a_motorcycle.bmp', 'data/3a_plane.bmp', 'data/4a_einstein.bmp', 'data/5a_submarine.bmp']\n"
     ]
    }
   ],
   "source": [
    "# print(glob.glob('data/*a_*.bmp'), '\\n')\n",
    "paths = glob.glob('data/*a_*.bmp')\n",
    "print(paths)\n",
    "# list = glob.glob('data/*a_*.bmp')"
   ]
  },
  {
   "cell_type": "code",
   "execution_count": 14,
   "id": "encouraging-childhood",
   "metadata": {},
   "outputs": [
    {
     "data": {
      "text/plain": [
       "['data/1a_dog.bmp',\n",
       " 'data/2a_motorcycle.bmp',\n",
       " 'data/3a_plane.bmp',\n",
       " 'data/4a_einstein.bmp',\n",
       " 'data/5a_submarine.bmp']"
      ]
     },
     "execution_count": 14,
     "metadata": {},
     "output_type": "execute_result"
    }
   ],
   "source": [
    "path = 'data'\n",
    "paths = glob.glob(path + '/*a_*.bmp')\n",
    "paths"
   ]
  },
  {
   "cell_type": "code",
   "execution_count": 28,
   "id": "overall-position",
   "metadata": {},
   "outputs": [
    {
     "data": {
      "text/plain": [
       "array([7, 7, 7, 7, 7])"
      ]
     },
     "execution_count": 28,
     "metadata": {},
     "output_type": "execute_result"
    }
   ],
   "source": [
    "get_cutoff_frequencies('cutoff_frequencies.txt')"
   ]
  },
  {
   "cell_type": "code",
   "execution_count": 23,
   "id": "exact-variance",
   "metadata": {},
   "outputs": [
    {
     "data": {
      "text/plain": [
       "7"
      ]
     },
     "execution_count": 23,
     "metadata": {},
     "output_type": "execute_result"
    }
   ],
   "source": [
    "im = '7\\n'\n",
    "inte = int(im)\n",
    "inte"
   ]
  },
  {
   "cell_type": "markdown",
   "id": "vocal-dancing",
   "metadata": {},
   "source": [
    "### Hybrid Image Dataset"
   ]
  },
  {
   "cell_type": "code",
   "execution_count": 78,
   "id": "offensive-scope",
   "metadata": {},
   "outputs": [
    {
     "name": "stdout",
     "output_type": "stream",
     "text": [
      "\u001b[32m\"Correct\"\u001b[0m\n",
      "\u001b[32m\"Correct\"\u001b[0m\n"
     ]
    }
   ],
   "source": [
    "print(verify(test_dataloader_len))\n",
    "print(verify(test_dataloader_get_item))"
   ]
  },
  {
   "cell_type": "code",
   "execution_count": 74,
   "id": "abstract-custom",
   "metadata": {},
   "outputs": [],
   "source": [
    "hid = HybridImageDataset('data', 'cutoff_frequencies.txt')\n",
    "imga, imgb, cof = hid[0]"
   ]
  },
  {
   "cell_type": "code",
   "execution_count": 76,
   "id": "electoral-scoop",
   "metadata": {},
   "outputs": [
    {
     "data": {
      "text/plain": [
       "torch.Size([3, 361, 410])"
      ]
     },
     "execution_count": 76,
     "metadata": {},
     "output_type": "execute_result"
    }
   ],
   "source": [
    "imga.shape"
   ]
  }
 ],
 "metadata": {
  "kernelspec": {
   "display_name": "Python 3",
   "language": "python",
   "name": "python3"
  },
  "language_info": {
   "codemirror_mode": {
    "name": "ipython",
    "version": 3
   },
   "file_extension": ".py",
   "mimetype": "text/x-python",
   "name": "python",
   "nbconvert_exporter": "python",
   "pygments_lexer": "ipython3",
   "version": "3.8.5"
  }
 },
 "nbformat": 4,
 "nbformat_minor": 5
}

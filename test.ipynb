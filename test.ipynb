{
 "cells": [
  {
   "cell_type": "code",
   "execution_count": 1,
   "id": "viral-reunion",
   "metadata": {},
   "outputs": [],
   "source": [
    "import numpy as np\n",
    "import matplotlib\n",
    "import matplotlib.pyplot as plt\n",
    "import cv2\n",
    "from proj1_code.part1 import *\n",
    "from proj1_unit_tests.test_part1 import *"
   ]
  },
  {
   "cell_type": "code",
   "execution_count": 2,
   "id": "bacterial-yacht",
   "metadata": {},
   "outputs": [],
   "source": [
    "def show_image(image):\n",
    "    cv2.imshow('image', image)\n",
    "    cv2.waitKey(0)\n",
    "    cv2.destroyAllWindows()"
   ]
  },
  {
   "cell_type": "markdown",
   "id": "champion-booth",
   "metadata": {},
   "source": [
    "opencv read test"
   ]
  },
  {
   "cell_type": "code",
   "execution_count": 3,
   "id": "perceived-exclusion",
   "metadata": {},
   "outputs": [],
   "source": [
    "image = load_image('data/1a_dog.bmp')\n",
    "li_image = np.array([\n",
    "    [0,1,2],\n",
    "    [3,4,5],\n",
    "])\n",
    "lit_image = np.array([\n",
    "    [0,1,2,3],\n",
    "    [4,5,6,7],\n",
    "    [8,9,10,11],\n",
    "])\n",
    "lito_image = np.array([\n",
    "    [0,1,2,3],\n",
    "    [4,5,6,7],\n",
    "    [8,9,10,11],\n",
    "    [12,13,14,15]\n",
    "])"
   ]
  },
  {
   "cell_type": "code",
   "execution_count": 4,
   "id": "presidential-belgium",
   "metadata": {},
   "outputs": [],
   "source": [
    "def conv_test(img, kernel):\n",
    "    result = np.zeros(img.shape)\n",
    "    krows, kcols = kernel.shape\n",
    "    padY = kernel.shape[0] // 2\n",
    "    padX = kernel.shape[1] // 2\n",
    "    padded_image = cv2.copyMakeBorder(img, padY, padY, padX, padX, cv2.BORDER_CONSTANT)\n",
    "    print(padded_image)\n",
    "    \n",
    "    for i in range(img.shape[0]):\n",
    "        for j in range(img.shape[1]):\n",
    "            print('position: ', i,j)\n",
    "            #print(kernel,'\\n*')\n",
    "            print(padded_image[i: i + krows, j: j + kcols], '\\n=')\n",
    "            #print(kernel * padded_image[i: i + krows, j: j + kcols],'\\n')"
   ]
  },
  {
   "cell_type": "code",
   "execution_count": 5,
   "id": "scheduled-atlantic",
   "metadata": {
    "scrolled": false
   },
   "outputs": [
    {
     "name": "stdout",
     "output_type": "stream",
     "text": [
      "[[ 0  0  0  0]\n",
      " [ 0  1  2  3]\n",
      " [ 4  5  6  7]\n",
      " [ 8  9 10 11]\n",
      " [ 0  0  0  0]]\n",
      "position:  0 0\n",
      "[[0]\n",
      " [0]\n",
      " [4]] \n",
      "=\n",
      "position:  0 1\n",
      "[[0]\n",
      " [1]\n",
      " [5]] \n",
      "=\n",
      "position:  0 2\n",
      "[[0]\n",
      " [2]\n",
      " [6]] \n",
      "=\n",
      "position:  0 3\n",
      "[[0]\n",
      " [3]\n",
      " [7]] \n",
      "=\n",
      "position:  1 0\n",
      "[[0]\n",
      " [4]\n",
      " [8]] \n",
      "=\n",
      "position:  1 1\n",
      "[[1]\n",
      " [5]\n",
      " [9]] \n",
      "=\n",
      "position:  1 2\n",
      "[[ 2]\n",
      " [ 6]\n",
      " [10]] \n",
      "=\n",
      "position:  1 3\n",
      "[[ 3]\n",
      " [ 7]\n",
      " [11]] \n",
      "=\n",
      "position:  2 0\n",
      "[[4]\n",
      " [8]\n",
      " [0]] \n",
      "=\n",
      "position:  2 1\n",
      "[[5]\n",
      " [9]\n",
      " [0]] \n",
      "=\n",
      "position:  2 2\n",
      "[[ 6]\n",
      " [10]\n",
      " [ 0]] \n",
      "=\n",
      "position:  2 3\n",
      "[[ 7]\n",
      " [11]\n",
      " [ 0]] \n",
      "=\n"
     ]
    }
   ],
   "source": [
    "kernel = np.array([[1],[1],[1]])\n",
    "# print(kernel.shape[0], kernel.shape[0] // 2)\n",
    "# print(kernel.shape[1], kernel.shape[1] // 2)\n",
    "#fila, columna = lit_image.shape\n",
    "conv_test(lit_image, kernel)"
   ]
  },
  {
   "cell_type": "markdown",
   "id": "instrumental-department",
   "metadata": {},
   "source": [
    "### Identity filter"
   ]
  },
  {
   "cell_type": "code",
   "execution_count": 6,
   "id": "based-viking",
   "metadata": {
    "scrolled": true
   },
   "outputs": [],
   "source": [
    "filter = np.array(\n",
    "    [\n",
    "        [0, 0, 0],\n",
    "        [0, 1, 0],\n",
    "        [0, 0, 0]\n",
    "    ]\n",
    ")\n",
    "\n",
    "channel_img = np.array(\n",
    "    [\n",
    "        [0, 1, 2, 3],\n",
    "        [4, 5, 6, 7],\n",
    "        [8, 9, 10, 11],\n",
    "        [12, 13, 14, 15]\n",
    "    ]\n",
    ")\n",
    "\n",
    "img = np.zeros((4, 4, 3), dtype=np.uint8)\n",
    "img[:, :, 0] = channel_img\n",
    "img[:, :, 1] = channel_img\n",
    "img[:, :, 2] = channel_img\n",
    "filtered_img = my_conv2d_numpy(copy.deepcopy(img), filter)\n",
    "# filtered_img"
   ]
  },
  {
   "cell_type": "markdown",
   "id": "roman-arrest",
   "metadata": {},
   "source": [
    "### Ones filter"
   ]
  },
  {
   "cell_type": "code",
   "execution_count": 7,
   "id": "homeless-chair",
   "metadata": {},
   "outputs": [],
   "source": [
    "filter = np.array([\n",
    "    [1, 1, 1, 1, 1],\n",
    "    [1, 1, 1, 1, 1],\n",
    "    [1, 1, 1, 1, 1],\n",
    "    [1, 1, 1, 1, 1],\n",
    "    [1, 1, 1, 1, 1],])\n",
    "\n",
    "channel_img = np.array([\n",
    "    [0, 1],\n",
    "    [2, 3]])\n",
    "\n",
    "img = np.zeros((2, 2, 3), dtype=np.uint8)\n",
    "for i in range(3):\n",
    "    img[:, :, i] = channel_img\n",
    "\n",
    "filtered_img = my_conv2d_numpy(img, filter)\n",
    "# filtered_img"
   ]
  },
  {
   "cell_type": "markdown",
   "id": "third-cuisine",
   "metadata": {},
   "source": [
    "### Non square filter"
   ]
  },
  {
   "cell_type": "code",
   "execution_count": 8,
   "id": "minute-notion",
   "metadata": {},
   "outputs": [
    {
     "data": {
      "text/plain": [
       "array([[ 1.,  4.,  4.],\n",
       "       [ 9., 15., 11.]])"
      ]
     },
     "execution_count": 8,
     "metadata": {},
     "output_type": "execute_result"
    }
   ],
   "source": [
    "filt = np.array([[1,1,1]])\n",
    "channel_img = np.array([[0, 1, 3], [4, 5, 6]])\n",
    "img = np.zeros((2,3,3), dtype=np.uint8)\n",
    "for i in range(3):\n",
    "    img[:,:,i] = channel_img\n",
    "\n",
    "filtered_img = my_conv2d_numpy(img, filt)\n",
    "filtered_img[:,:,0]"
   ]
  },
  {
   "cell_type": "code",
   "execution_count": 9,
   "id": "beneficial-costs",
   "metadata": {},
   "outputs": [
    {
     "data": {
      "text/plain": [
       "array([[[ 1,  1,  1],\n",
       "        [ 4,  4,  4],\n",
       "        [ 4,  4,  4]],\n",
       "\n",
       "       [[ 9,  9,  9],\n",
       "        [15, 15, 15],\n",
       "        [11, 11, 11]]], dtype=uint8)"
      ]
     },
     "execution_count": 9,
     "metadata": {},
     "output_type": "execute_result"
    }
   ],
   "source": [
    "gt_filtered_channel_img = np.array([[1, 4, 4],[9, 15, 11]])\n",
    "gt_filtered_img = np.zeros((2, 3, 3), dtype=np.uint8)\n",
    "for i in range(3):\n",
    "    gt_filtered_img[:, :, i] = gt_filtered_channel_img\n",
    "    \n",
    "gt_filtered_img"
   ]
  }
 ],
 "metadata": {
  "kernelspec": {
   "display_name": "Python 3",
   "language": "python",
   "name": "python3"
  },
  "language_info": {
   "codemirror_mode": {
    "name": "ipython",
    "version": 3
   },
   "file_extension": ".py",
   "mimetype": "text/x-python",
   "name": "python",
   "nbconvert_exporter": "python",
   "pygments_lexer": "ipython3",
   "version": "3.8.5"
  }
 },
 "nbformat": 4,
 "nbformat_minor": 5
}

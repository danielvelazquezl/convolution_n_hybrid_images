{
 "cells": [
  {
   "cell_type": "code",
   "execution_count": 1,
   "id": "fiscal-worship",
   "metadata": {},
   "outputs": [],
   "source": [
    "%load_ext autoreload\n",
    "%autoreload 2"
   ]
  },
  {
   "cell_type": "markdown",
   "id": "large-union",
   "metadata": {},
   "source": [
    "### Imports section"
   ]
  },
  {
   "cell_type": "code",
   "execution_count": 106,
   "id": "handy-aggregate",
   "metadata": {},
   "outputs": [],
   "source": [
    "import os\n",
    "import glob\n",
    "import numpy as np\n",
    "import matplotlib.pyplot as plt\n",
    "import PIL\n",
    "import torch\n",
    "import torchvision\n",
    "import torch.utils.data as data\n",
    "import torchvision.transforms as transforms\n",
    "\n",
    "from proj1_code.utils import *\n",
    "from proj1_code.part1 import *\n",
    "from proj1_code.part2_datasets import *\n",
    "from proj1_code.part2_models import *\n",
    "from proj1_unit_tests.test_part2 import *"
   ]
  },
  {
   "cell_type": "code",
   "execution_count": 13,
   "id": "hispanic-february",
   "metadata": {},
   "outputs": [
    {
     "name": "stdout",
     "output_type": "stream",
     "text": [
      "['data/1a_dog.bmp', 'data/2a_motorcycle.bmp', 'data/3a_plane.bmp', 'data/4a_einstein.bmp', 'data/5a_submarine.bmp']\n"
     ]
    }
   ],
   "source": [
    "# print(glob.glob('data/*a_*.bmp'), '\\n')\n",
    "paths = glob.glob('data/*a_*.bmp')\n",
    "print(paths)\n",
    "# list = glob.glob('data/*a_*.bmp')"
   ]
  },
  {
   "cell_type": "code",
   "execution_count": 14,
   "id": "sealed-guarantee",
   "metadata": {},
   "outputs": [
    {
     "data": {
      "text/plain": [
       "['data/1a_dog.bmp',\n",
       " 'data/2a_motorcycle.bmp',\n",
       " 'data/3a_plane.bmp',\n",
       " 'data/4a_einstein.bmp',\n",
       " 'data/5a_submarine.bmp']"
      ]
     },
     "execution_count": 14,
     "metadata": {},
     "output_type": "execute_result"
    }
   ],
   "source": [
    "path = 'data'\n",
    "paths = glob.glob(path + '/*a_*.bmp')\n",
    "paths"
   ]
  },
  {
   "cell_type": "code",
   "execution_count": 28,
   "id": "confidential-annotation",
   "metadata": {},
   "outputs": [
    {
     "data": {
      "text/plain": [
       "array([7, 7, 7, 7, 7])"
      ]
     },
     "execution_count": 28,
     "metadata": {},
     "output_type": "execute_result"
    }
   ],
   "source": [
    "get_cutoff_frequencies('cutoff_frequencies.txt')"
   ]
  },
  {
   "cell_type": "code",
   "execution_count": 23,
   "id": "abstract-export",
   "metadata": {},
   "outputs": [
    {
     "data": {
      "text/plain": [
       "7"
      ]
     },
     "execution_count": 23,
     "metadata": {},
     "output_type": "execute_result"
    }
   ],
   "source": [
    "im = '7\\n'\n",
    "inte = int(im)\n",
    "inte"
   ]
  },
  {
   "cell_type": "markdown",
   "id": "fifth-negative",
   "metadata": {},
   "source": [
    "### Hybrid Image Dataset"
   ]
  },
  {
   "cell_type": "code",
   "execution_count": 86,
   "id": "intensive-constant",
   "metadata": {},
   "outputs": [
    {
     "name": "stdout",
     "output_type": "stream",
     "text": [
      "\u001b[32m\"Correct\"\u001b[0m\n",
      "\u001b[32m\"Correct\"\u001b[0m\n"
     ]
    }
   ],
   "source": [
    "print(verify(test_dataloader_len))\n",
    "print(verify(test_dataloader_get_item))"
   ]
  },
  {
   "cell_type": "code",
   "execution_count": 74,
   "id": "amber-creek",
   "metadata": {},
   "outputs": [],
   "source": [
    "hid = HybridImageDataset('data', 'cutoff_frequencies.txt')\n",
    "imga, imgb, cof = hid[0]"
   ]
  },
  {
   "cell_type": "code",
   "execution_count": 81,
   "id": "handled-verse",
   "metadata": {
    "scrolled": true
   },
   "outputs": [
    {
     "data": {
      "text/plain": [
       "torch.Size([3, 361, 410])"
      ]
     },
     "execution_count": 81,
     "metadata": {},
     "output_type": "execute_result"
    }
   ],
   "source": [
    "imga.shape"
   ]
  },
  {
   "cell_type": "code",
   "execution_count": 85,
   "id": "scientific-kingdom",
   "metadata": {},
   "outputs": [
    {
     "data": {
      "text/plain": [
       "torch.Size([3, 1, 361, 410])"
      ]
     },
     "execution_count": 85,
     "metadata": {},
     "output_type": "execute_result"
    }
   ],
   "source": [
    "imguns = imga.unsqueeze(1)\n",
    "imguns.shape"
   ]
  },
  {
   "cell_type": "markdown",
   "id": "whole-donna",
   "metadata": {},
   "source": [
    "### Hybrid Image Model"
   ]
  },
  {
   "cell_type": "code",
   "execution_count": 87,
   "id": "involved-haven",
   "metadata": {},
   "outputs": [],
   "source": [
    " transform = transforms.ToTensor()"
   ]
  },
  {
   "cell_type": "code",
   "execution_count": 103,
   "id": "criminal-offering",
   "metadata": {},
   "outputs": [
    {
     "data": {
      "text/plain": [
       "(3, 4, 3)"
      ]
     },
     "execution_count": 103,
     "metadata": {},
     "output_type": "execute_result"
    }
   ],
   "source": [
    "kernel = create_Gaussian_kernel_2D(7)\n",
    "# torch_kernel = torch.from_numpy(kernel)\n",
    "# type(torch_kernel)\n",
    "# torch_kernel.shape\n",
    "# kernel.shape[0]\n",
    "kernel_c = np.zeros((3,4, 3))\n",
    "kernel_c.shape"
   ]
  },
  {
   "cell_type": "code",
   "execution_count": 150,
   "id": "furnished-helmet",
   "metadata": {},
   "outputs": [],
   "source": [
    "def get_kernel(cutoff_frequency: int):\n",
    "    kernel_size = cutoff_frequency * 4 + 1\n",
    "    kernel2d_with_channels = np.zeros((3, 1, kernel_size, kernel_size))\n",
    "    for i in range(3):\n",
    "        kernel2d_with_channels[i,:,:,:] = create_Gaussian_kernel_2D(cutoff_frequency)\n",
    "\n",
    "    return torch.from_numpy(kernel2d_with_channels)"
   ]
  },
  {
   "cell_type": "code",
   "execution_count": 151,
   "id": "missing-crown",
   "metadata": {
    "scrolled": true
   },
   "outputs": [
    {
     "data": {
      "text/plain": [
       "torch.Size([3, 1, 29, 29])"
      ]
     },
     "execution_count": 151,
     "metadata": {},
     "output_type": "execute_result"
    }
   ],
   "source": [
    "ker = get_kernel(7)\n",
    "ker.shape"
   ]
  },
  {
   "cell_type": "code",
   "execution_count": null,
   "id": "placed-county",
   "metadata": {},
   "outputs": [],
   "source": []
  }
 ],
 "metadata": {
  "kernelspec": {
   "display_name": "Python 3",
   "language": "python",
   "name": "python3"
  },
  "language_info": {
   "codemirror_mode": {
    "name": "ipython",
    "version": 3
   },
   "file_extension": ".py",
   "mimetype": "text/x-python",
   "name": "python",
   "nbconvert_exporter": "python",
   "pygments_lexer": "ipython3",
   "version": "3.8.5"
  }
 },
 "nbformat": 4,
 "nbformat_minor": 5
}
